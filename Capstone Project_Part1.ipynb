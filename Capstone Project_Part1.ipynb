{
 "cells": [
  {
   "cell_type": "markdown",
   "metadata": {},
   "source": [
    "<h1 align=center><font size = 6>Capstone Project - The Battle of Neighborhoods</font></h1>"
   ]
  },
  {
   "cell_type": "markdown",
   "metadata": {},
   "source": [
    "<h1 align=center><font size = 5>Finding a good location to open an Italian restaurant in Berlin, Germany</font></h1>"
   ]
  },
  {
   "cell_type": "markdown",
   "metadata": {},
   "source": [
    "\n",
    "### Table of Contents\n",
    "\n",
    "<div class=\"alert alert-block alert-info\" style=\"margin-top: 20px\">\n",
    "\n",
    "<font size = 3>\n",
    "\n",
    "1. <a href=\"#item1\">Introduction</a>\n",
    "\n",
    "2. <a href=\"#item2\">Data Description</a>\n",
    "\n",
    "3. <a href=\"#item3\">Methodology</a>\n",
    "\n",
    "4. <a href=\"#item4\">Results</a>\n",
    "\n",
    "5. <a href=\"#item5\">Discussion</a>\n",
    "    \n",
    "6. <a href=\"#item6\">Conclusion</a> \n",
    "    \n",
    "<a href=\"#item7\">References</a> \n",
    "</font>\n",
    "</div>"
   ]
  },
  {
   "cell_type": "markdown",
   "metadata": {},
   "source": [
    "## 1. Introduction"
   ]
  },
  {
   "cell_type": "markdown",
   "metadata": {},
   "source": [
    "### Background"
   ]
  },
  {
   "cell_type": "markdown",
   "metadata": {},
   "source": [
    "Berlin is the capital and largest city of Germany by both area (30,000 sq. km) and population (ca. 3.8 million).\n",
    "\n",
    "Being world city of culture, politics, media and science, Berlin attracts many tourists all year round. In 2014, the city recorded 28.7 million overnight hotel stays and 11.9 million hotel guests. Moreover, tourism figures have more than doubled within the last ten years and Berlin has become the third most visited city destination in Europe. The largest visitor groups are from Germany, the United Kingdom, the Netherlands, Italy, Spain and the United States. \n",
    "\n",
    "Additionally, in 2019, Berlin was ranked 13th in the Quality of living city ranking prepared by Mercer. \n"
   ]
  },
  {
   "cell_type": "markdown",
   "metadata": {},
   "source": [
    "### Problem"
   ]
  },
  {
   "cell_type": "markdown",
   "metadata": {},
   "source": [
    "Being a well known cosmopolitan city with people from all around the world, Berlin offers a wide variety in the gastronomy sector, especially Italian restaurants, with new ones are opening all the time.\n",
    "\n",
    "Searching for an optimal location to open an Italian restaurant in Berlin, however, could be challenging. Although it is logical to think that locations where there are no Italian restaurants, or at least not many of them, would be better, the problem is that interested customers tend to prefer popular and busy neighborhoods with many options available to choose from for them. From an investor point of view, on the one hand that means more movement of people and therefore more customers, but on the other, higher rents and stronger competition. "
   ]
  },
  {
   "cell_type": "markdown",
   "metadata": {},
   "source": [
    "### Interest"
   ]
  },
  {
   "cell_type": "markdown",
   "metadata": {},
   "source": [
    "To analyze locations, ratings, and competition is a plus for those who want to be part of this industry. Therefore, the project would be perfect fit for investors who wants to open a new Italian restaurant in the city of Berlin."
   ]
  },
  {
   "cell_type": "markdown",
   "metadata": {},
   "source": [
    "## 2. Data Description"
   ]
  },
  {
   "cell_type": "markdown",
   "metadata": {},
   "source": [
    "To help solving the problem of finding the optimal location for a new Italian restaurant, the following data will be searched for and considered during the project:  \n",
    "$\\;\\;\\;\\;\\;\\;$a) Number of already existing Italian restaurants in a given borough;  \n",
    "$\\;\\;\\;\\;\\;\\;$b) Different boroughs and their respective average rental prices to open a restaurant;  \n",
    "Additionally, the tools that will be used in this project are:    \n",
    "$\\;\\;\\;\\;\\;\\;$a) Foursquare API to select the number of Italian restaurants and their respective location in any given borough in Berlin;  \n",
    "$\\;\\;\\;\\;\\;\\;$b) Geocoder to get the latitudes and longitudes of places of interest. "
   ]
  },
  {
   "cell_type": "code",
   "execution_count": null,
   "metadata": {},
   "outputs": [],
   "source": []
  },
  {
   "cell_type": "code",
   "execution_count": null,
   "metadata": {},
   "outputs": [],
   "source": []
  },
  {
   "cell_type": "code",
   "execution_count": null,
   "metadata": {},
   "outputs": [],
   "source": []
  },
  {
   "cell_type": "code",
   "execution_count": null,
   "metadata": {},
   "outputs": [],
   "source": []
  },
  {
   "cell_type": "code",
   "execution_count": null,
   "metadata": {},
   "outputs": [],
   "source": []
  },
  {
   "cell_type": "code",
   "execution_count": null,
   "metadata": {},
   "outputs": [],
   "source": []
  },
  {
   "cell_type": "code",
   "execution_count": null,
   "metadata": {},
   "outputs": [],
   "source": []
  }
 ],
 "metadata": {
  "kernelspec": {
   "display_name": "Python",
   "language": "python",
   "name": "conda-env-python-py"
  },
  "language_info": {
   "codemirror_mode": {
    "name": "ipython",
    "version": 3
   },
   "file_extension": ".py",
   "mimetype": "text/x-python",
   "name": "python",
   "nbconvert_exporter": "python",
   "pygments_lexer": "ipython3",
   "version": "3.6.10"
  }
 },
 "nbformat": 4,
 "nbformat_minor": 4
}
